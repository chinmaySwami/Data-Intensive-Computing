{
 "cells": [
  {
   "cell_type": "markdown",
   "metadata": {},
   "source": [
    "# Loading Packages"
   ]
  },
  {
   "cell_type": "code",
   "execution_count": 8,
   "metadata": {},
   "outputs": [],
   "source": [
    "from glob import glob\n",
    "import warc\n",
    "import re\n",
    "import os\n",
    "from nltk.corpus import stopwords\n",
    "stop_words = set(stopwords.words('english'))\n",
    "stop_words.update(['pdf', 'url', 'file', 'short', 'doc', 'description', 'book', 'free', 'guide'])\n",
    "def nlp_preprocessing(total_text, count_records):\n",
    "    if type(total_text) is not int:\n",
    "        string = \"\"\n",
    "        for words in total_text.split():\n",
    "            # remove the special chars in review like '\"#$@!%^&*()_+-~?>< etc.\n",
    "            word = (\"\".join(e for e in words if e.isalnum()))\n",
    "            # Conver all letters to lower-case\n",
    "            word = word.lower()\n",
    "            # stop-word removal\n",
    "            if not word in stop_words:    \n",
    "                string += word + \" \"\n",
    "        return string    "
   ]
  },
  {
   "cell_type": "markdown",
   "metadata": {},
   "source": [
    "# Processing each .wet file for every subtopic"
   ]
  },
  {
   "cell_type": "code",
   "execution_count": 16,
   "metadata": {},
   "outputs": [],
   "source": [
    "words = ('nba', 'basketball')\n",
    "warc_files = glob('WET/*.wet')\n",
    "count_records = 0\n",
    "for fn in warc_files:\n",
    "    with warc.open(fn) as f:\n",
    "        for record in f:\n",
    "            text = record.payload.read().decode(\"utf-8\")\n",
    "            if(set(words).issubset(text.split())):\n",
    "                text = re.sub(r\"http\\S+\", \"\", text)\n",
    "                text = (''.join(i for i in text if not i.isdigit()))\n",
    "                text = text.translate(str.maketrans('','','{}'))\n",
    "                count_records += 1\n",
    "                text = nlp_preprocessing(text, count_records)\n",
    "                with open(os.path.join('F:/CC/NBA_CC',\"nba\"+str(count_records)+\".txt\"), \"w\", encoding=\"utf-8\") as output:\n",
    "                    output.write(text)"
   ]
  },
  {
   "cell_type": "code",
   "execution_count": 18,
   "metadata": {},
   "outputs": [],
   "source": [
    "words = ('mlb', 'baseball')\n",
    "warc_files = glob('WET/*.wet')\n",
    "count_records = 0\n",
    "for fn in warc_files:\n",
    "    with warc.open(fn) as f:\n",
    "        for record in f:\n",
    "            text = record.payload.read().decode(\"utf-8\")\n",
    "            if(set(words).issubset(text.split())):\n",
    "                text = re.sub(r\"http\\S+\", \"\", text)\n",
    "                text = (''.join(i for i in text if not i.isdigit()))\n",
    "                text = text.translate(str.maketrans('','','{}'))\n",
    "                count_records += 1\n",
    "                text = nlp_preprocessing(text, count_records)\n",
    "                with open(os.path.join('F:/CC/MLB_CC',\"mlb\"+str(count_records)+\".txt\"), \"w\", encoding=\"utf-8\") as output:\n",
    "                    output.write(text)"
   ]
  },
  {
   "cell_type": "code",
   "execution_count": 19,
   "metadata": {},
   "outputs": [],
   "source": [
    "words = ('nhl', 'hockey')\n",
    "warc_files = glob('WET/*.wet')\n",
    "count_records = 0\n",
    "for fn in warc_files:\n",
    "    with warc.open(fn) as f:\n",
    "        for record in f:\n",
    "            text = record.payload.read().decode(\"utf-8\")\n",
    "            if(set(words).issubset(text.split())):\n",
    "                text = re.sub(r\"http\\S+\", \"\", text)\n",
    "                text = (''.join(i for i in text if not i.isdigit()))\n",
    "                text = text.translate(str.maketrans('','','{}'))\n",
    "                count_records += 1\n",
    "                text = nlp_preprocessing(text, count_records)\n",
    "                with open(os.path.join('F:/CC/NHL_CC',\"nhl\"+str(count_records)+\".txt\"), \"w\", encoding=\"utf-8\") as output:\n",
    "                    output.write(text)"
   ]
  },
  {
   "cell_type": "code",
   "execution_count": 22,
   "metadata": {},
   "outputs": [],
   "source": [
    "words = ('mls', 'soccer')\n",
    "warc_files = glob('WET3/*.wet')\n",
    "count_records = 14\n",
    "for fn in warc_files:\n",
    "    with warc.open(fn) as f:\n",
    "        for record in f:\n",
    "            text = record.payload.read().decode(\"utf-8\")\n",
    "            if(set(words).issubset(text.split())):\n",
    "                text = re.sub(r\"http\\S+\", \"\", text)\n",
    "                text = (''.join(i for i in text if not i.isdigit()))\n",
    "                text = text.translate(str.maketrans('','','{}'))\n",
    "                count_records += 1\n",
    "                text = nlp_preprocessing(text, count_records)\n",
    "                with open(os.path.join('F:/CC/MLS_CC',\"mls\"+str(count_records)+\".txt\"), \"w\", encoding=\"utf-8\") as output:\n",
    "                    output.write(text)"
   ]
  },
  {
   "cell_type": "code",
   "execution_count": 23,
   "metadata": {},
   "outputs": [],
   "source": [
    "words = ('nfl', 'football')\n",
    "warc_files = glob('WET/*.wet')\n",
    "count_records = 0\n",
    "for fn in warc_files:\n",
    "    with warc.open(fn) as f:\n",
    "        for record in f:\n",
    "            text = record.payload.read().decode(\"utf-8\")\n",
    "            if(set(words).issubset(text.split())):\n",
    "                text = re.sub(r\"http\\S+\", \"\", text)\n",
    "                text = (''.join(i for i in text if not i.isdigit()))\n",
    "                text = text.translate(str.maketrans('','','{}'))\n",
    "                count_records += 1\n",
    "                text = nlp_preprocessing(text, count_records)\n",
    "                with open(os.path.join('F:/CC/NFL_CC',\"nfl\"+str(count_records)+\".txt\"), \"w\", encoding=\"utf-8\") as output:\n",
    "                    output.write(text)"
   ]
  }
 ],
 "metadata": {
  "kernelspec": {
   "display_name": "Python 3",
   "language": "python",
   "name": "python3"
  },
  "language_info": {
   "codemirror_mode": {
    "name": "ipython",
    "version": 3
   },
   "file_extension": ".py",
   "mimetype": "text/x-python",
   "name": "python",
   "nbconvert_exporter": "python",
   "pygments_lexer": "ipython3",
   "version": "3.6.5"
  }
 },
 "nbformat": 4,
 "nbformat_minor": 2
}
